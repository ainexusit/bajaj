{
 "cells": [
  {
   "cell_type": "code",
   "execution_count": 4,
   "id": "d5e859b5-7205-413b-870e-27c4c2bb4917",
   "metadata": {},
   "outputs": [
    {
     "name": "stdin",
     "output_type": "stream",
     "text": [
      "Enter the filename: asdsad.xlsx\n"
     ]
    },
    {
     "name": "stdout",
     "output_type": "stream",
     "text": [
      "invalid excel file\n"
     ]
    }
   ],
   "source": [
    "file = input(\"Enter the filename:\")\n",
    "if file.endswith(\".csv\"):\n",
    "    if file.startswith(\"copper\"):\n",
    "        print(\"copper csv file executed\")\n",
    "    elif file.startswith(\"gold\"):\n",
    "        print(\"gold csv file executed\")\n",
    "    elif file.startswith(\"boxite\"):\n",
    "        print(\"boxite csv file execute\")\n",
    "    else:\n",
    "        print(\"invalid csv file\")\n",
    "elif file.endswith(\".xlsx\"):\n",
    "    if file.startswith(\"copper\"):\n",
    "        print(\"copper excel file executed\")\n",
    "    elif file.startswith(\"gold\"):\n",
    "        print(\"gold excel file executed\")\n",
    "    elif file.startswith(\"boxite\"):\n",
    "        print(\"boxite excel file execute\")\n",
    "    else:\n",
    "        print(\"invalid excel file\") \n",
    "else:\n",
    "    print(\"invalid file type\")"
   ]
  },
  {
   "cell_type": "code",
   "execution_count": null,
   "id": "768169ac-6f8e-4e58-8657-dc3e975467cd",
   "metadata": {},
   "outputs": [],
   "source": [
    "copper_2023_sales.xlsx\n",
    "copper_2024_sales_xlsx\n",
    "silver_2023_sales.xlsx"
   ]
  },
  {
   "cell_type": "code",
   "execution_count": 6,
   "id": "ea80e1cb-6449-4bc9-832c-083fee217644",
   "metadata": {},
   "outputs": [
    {
     "name": "stdout",
     "output_type": "stream",
     "text": [
      "hi\n",
      "bye\n",
      "welcome\n",
      "hi\n",
      "bye\n",
      "welcome\n",
      "hi\n",
      "bye\n",
      "welcome\n",
      "hi\n",
      "bye\n",
      "welcome\n",
      "hi\n",
      "bye\n",
      "welcome\n",
      "hi\n",
      "bye\n",
      "welcome\n",
      "hi\n",
      "bye\n",
      "welcome\n"
     ]
    }
   ],
   "source": [
    "print(\"hi\")\n",
    "print(\"bye\")\n",
    "print(\"welcome\")\n",
    "print(\"hi\")\n",
    "print(\"bye\")\n",
    "print(\"welcome\")\n",
    "print(\"hi\")\n",
    "print(\"bye\")\n",
    "print(\"welcome\")\n",
    "print(\"hi\")\n",
    "print(\"bye\")\n",
    "print(\"welcome\")\n",
    "print(\"hi\")\n",
    "print(\"bye\")\n",
    "print(\"welcome\")\n",
    "print(\"hi\")\n",
    "print(\"bye\")\n",
    "print(\"welcome\")\n",
    "print(\"hi\")\n",
    "print(\"bye\")\n",
    "print(\"welcome\")"
   ]
  },
  {
   "cell_type": "code",
   "execution_count": null,
   "id": "fb82c3be-0834-4996-8196-49919f17d7d9",
   "metadata": {},
   "outputs": [],
   "source": [
    "for loop \n",
    "while loop\n",
    "\n",
    "Note : do-while is not present in python"
   ]
  },
  {
   "cell_type": "code",
   "execution_count": 7,
   "id": "6f4fb476-ad55-41d9-8c57-fb1dd3682477",
   "metadata": {},
   "outputs": [],
   "source": [
    "p = ['python','java','hadoop','ml']"
   ]
  },
  {
   "cell_type": "code",
   "execution_count": 8,
   "id": "8ac6f3c2-36fb-445f-b416-00405522aeac",
   "metadata": {},
   "outputs": [],
   "source": [
    "t = 'python'"
   ]
  },
  {
   "cell_type": "code",
   "execution_count": 9,
   "id": "5f0570d1-039f-4a85-8514-69d4cc793cd8",
   "metadata": {},
   "outputs": [
    {
     "data": {
      "text/plain": [
       "6"
      ]
     },
     "execution_count": 9,
     "metadata": {},
     "output_type": "execute_result"
    }
   ],
   "source": [
    "len(t)"
   ]
  },
  {
   "cell_type": "code",
   "execution_count": null,
   "id": "314a88bf-97b5-42ee-a258-910ecf8eb6c4",
   "metadata": {},
   "outputs": [],
   "source": [
    "for loopvar in DS/SEQ/iterables:\n",
    "    block of code    "
   ]
  },
  {
   "cell_type": "code",
   "execution_count": 10,
   "id": "dd0259a5-1093-4212-aeb3-89eb441a5f60",
   "metadata": {},
   "outputs": [
    {
     "data": {
      "text/plain": [
       "['python', 'java', 'hadoop', 'ml']"
      ]
     },
     "execution_count": 10,
     "metadata": {},
     "output_type": "execute_result"
    }
   ],
   "source": [
    "p"
   ]
  },
  {
   "cell_type": "code",
   "execution_count": 16,
   "id": "c6b8386f-f3e4-4479-bd77-e8fe6f10d32b",
   "metadata": {},
   "outputs": [
    {
     "name": "stdout",
     "output_type": "stream",
     "text": [
      "loop completed\n",
      "{'python': 6, 'java': 4, 'hadoop': 6, 'ml': 2}\n"
     ]
    }
   ],
   "source": [
    "d = {}\n",
    "for element in p:\n",
    "    d[element]=len(element)\n",
    "print(\"loop completed\")\n",
    "print(d)"
   ]
  },
  {
   "cell_type": "code",
   "execution_count": 13,
   "id": "567a3ba9-79fb-4f79-9634-6e742badccc5",
   "metadata": {},
   "outputs": [],
   "source": [
    "temp = {}\n"
   ]
  },
  {
   "cell_type": "code",
   "execution_count": 14,
   "id": "26961f91-ce7a-4801-a48b-d5e843408499",
   "metadata": {},
   "outputs": [],
   "source": [
    "temp['python'] = len('python')"
   ]
  },
  {
   "cell_type": "code",
   "execution_count": 15,
   "id": "90e76c14-8d6c-410e-b47a-4ea8dfa00cc4",
   "metadata": {},
   "outputs": [
    {
     "data": {
      "text/plain": [
       "{'python': 6}"
      ]
     },
     "execution_count": 15,
     "metadata": {},
     "output_type": "execute_result"
    }
   ],
   "source": [
    "temp"
   ]
  },
  {
   "cell_type": "code",
   "execution_count": 17,
   "id": "cbe3d8fd-f281-47a4-afb3-4e92aefc6e5a",
   "metadata": {},
   "outputs": [],
   "source": [
    "ids = [534,35,6,243,64,3,46,4,'dvdfdvdb','dvdv','dvcxv',5465456]"
   ]
  },
  {
   "cell_type": "code",
   "execution_count": 20,
   "id": "72b3bd18-f46d-4cd9-8688-60e3f44b7a21",
   "metadata": {},
   "outputs": [
    {
     "name": "stdout",
     "output_type": "stream",
     "text": [
      "Valid empid : [534, 35, 6, 243, 64, 3, 46, 4, 5465456]\n",
      "invalid empid: ['dvdfdvdb', 'dvdv', 'dvcxv']\n"
     ]
    }
   ],
   "source": [
    "valid = []\n",
    "invalid = []\n",
    "for empid in ids:\n",
    "    if str(empid).isnumeric():\n",
    "        valid.append(empid)\n",
    "    else:\n",
    "        invalid.append(empid)\n",
    "print(\"Valid empid :\",valid)\n",
    "print(\"invalid empid:\",invalid)"
   ]
  },
  {
   "cell_type": "code",
   "execution_count": 24,
   "id": "c639a830-0bd1-48e9-84d9-1ba1ff02ec3c",
   "metadata": {},
   "outputs": [],
   "source": [
    "emails = ['test@gmail.com','sample@rediffmail.com','python@gmail.com','ml@gmail.com','dsfdfs','dfssadf','hadoop@reffmail.com','test@yahoo.com']"
   ]
  },
  {
   "cell_type": "code",
   "execution_count": 25,
   "id": "f0992f6d-5b40-4a06-bfd2-daf12cc9c763",
   "metadata": {},
   "outputs": [
    {
     "data": {
      "text/plain": [
       "['test@gmail.com',\n",
       " 'sample@rediffmail.com',\n",
       " 'python@gmail.com',\n",
       " 'ml@gmail.com',\n",
       " 'dsfdfs',\n",
       " 'dfssadf',\n",
       " 'hadoop@reffmail.com',\n",
       " 'test@yahoo.com']"
      ]
     },
     "execution_count": 25,
     "metadata": {},
     "output_type": "execute_result"
    }
   ],
   "source": [
    "emails"
   ]
  },
  {
   "cell_type": "code",
   "execution_count": 28,
   "id": "febcbd73-80fb-4200-8e37-6402924203fa",
   "metadata": {},
   "outputs": [
    {
     "name": "stdout",
     "output_type": "stream",
     "text": [
      "{'gmail': ['test@gmail.com', 'python@gmail.com', 'ml@gmail.com']}\n",
      "{'rediffmail': ['sample@rediffmail.com']}\n",
      "{'yahoo': ['test@yahoo.com']}\n",
      "{'invalid': ['dsfdfs', 'dfssadf', 'hadoop@reffmail.com']}\n"
     ]
    }
   ],
   "source": [
    "gmail = {'gmail': []}\n",
    "rediffmail = {'rediffmail':[]}\n",
    "yahoo = {'yahoo':[]}\n",
    "invalid = {'invalid':[]}\n",
    "for email in emails:\n",
    "    if email.endswith('@gmail.com'):\n",
    "        gmail['gmail'].append(email)\n",
    "    elif email.endswith('@rediffmail.com'):\n",
    "        rediffmail['rediffmail'].append(email)\n",
    "    elif email.endswith('@yahoo.com'):\n",
    "        yahoo['yahoo'].append(email)\n",
    "    else:\n",
    "        invalid['invalid'].append(email)\n",
    "print(gmail)\n",
    "print(rediffmail)\n",
    "print(yahoo)\n",
    "print(invalid)"
   ]
  },
  {
   "cell_type": "code",
   "execution_count": null,
   "id": "1913143c-fa48-44d2-beb2-6491ed3259c6",
   "metadata": {},
   "outputs": [],
   "source": []
  },
  {
   "cell_type": "code",
   "execution_count": null,
   "id": "b1289735-3a99-4348-b382-365387ac1c7c",
   "metadata": {},
   "outputs": [],
   "source": []
  }
 ],
 "metadata": {
  "kernelspec": {
   "display_name": "Python 3 (ipykernel)",
   "language": "python",
   "name": "python3"
  },
  "language_info": {
   "codemirror_mode": {
    "name": "ipython",
    "version": 3
   },
   "file_extension": ".py",
   "mimetype": "text/x-python",
   "name": "python",
   "nbconvert_exporter": "python",
   "pygments_lexer": "ipython3",
   "version": "3.12.7"
  }
 },
 "nbformat": 4,
 "nbformat_minor": 5
}
