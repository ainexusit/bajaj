{
 "cells": [
  {
   "cell_type": "code",
   "execution_count": null,
   "id": "d8ebf492-14ad-4a5d-8ccd-1a7cd5dddd3c",
   "metadata": {},
   "outputs": [],
   "source": [
    "lambda :\n",
    "\n",
    "anonymous function\n",
    "just in time\n",
    "online /in line\n",
    "temporary\n"
   ]
  },
  {
   "cell_type": "code",
   "execution_count": 1,
   "id": "91cd082e-364a-4b88-b2d5-78b26cb63811",
   "metadata": {},
   "outputs": [],
   "source": [
    "username = (lambda x: x.split(\"@\")[0])('test@gmail.com')"
   ]
  },
  {
   "cell_type": "code",
   "execution_count": 2,
   "id": "e17b836b-af00-4442-9a30-a071add5eb90",
   "metadata": {},
   "outputs": [
    {
     "data": {
      "text/plain": [
       "'test'"
      ]
     },
     "execution_count": 2,
     "metadata": {},
     "output_type": "execute_result"
    }
   ],
   "source": [
    "username"
   ]
  },
  {
   "cell_type": "code",
   "execution_count": 3,
   "id": "ce1230ac-04a5-4f2a-ae19-00e0b0a3398c",
   "metadata": {},
   "outputs": [],
   "source": [
    "p = [56,34,786,34,786,4,58,6,4576,]"
   ]
  },
  {
   "cell_type": "code",
   "execution_count": 4,
   "id": "68c820bf-5e14-4c29-93ea-c468d2809a21",
   "metadata": {},
   "outputs": [],
   "source": [
    "def sqr_number(num):\n",
    "    return num**2"
   ]
  },
  {
   "cell_type": "code",
   "execution_count": 5,
   "id": "e315b777-9fb6-4365-b155-6e4e1219a498",
   "metadata": {},
   "outputs": [
    {
     "data": {
      "text/plain": [
       "[3136, 1156, 617796, 1156, 617796, 16, 3364, 36, 20939776]"
      ]
     },
     "execution_count": 5,
     "metadata": {},
     "output_type": "execute_result"
    }
   ],
   "source": [
    "list(map(sqr_number,p))"
   ]
  },
  {
   "cell_type": "code",
   "execution_count": null,
   "id": "88f078cd-1ead-4b6e-a48e-88e9888efe6c",
   "metadata": {},
   "outputs": [],
   "source": [
    "map(function,iterables/DS/seq)"
   ]
  },
  {
   "cell_type": "code",
   "execution_count": 11,
   "id": "d1e941df-f843-4e32-8a24-cbb084ff1e2e",
   "metadata": {},
   "outputs": [],
   "source": [
    "gen = ['m','f','m','f','f','f','sdf','sdfsdf']"
   ]
  },
  {
   "cell_type": "code",
   "execution_count": null,
   "id": "20ec9578-0a75-4ad0-97c9-e829e4aef75d",
   "metadata": {},
   "outputs": [],
   "source": [
    "[1,0,1,0,0,0]"
   ]
  },
  {
   "cell_type": "code",
   "execution_count": 8,
   "id": "b2365c9c-ef06-4297-9403-3cbf97108ae4",
   "metadata": {},
   "outputs": [
    {
     "data": {
      "text/plain": [
       "[1, 0, 1, 0, 0, 0]"
      ]
     },
     "execution_count": 8,
     "metadata": {},
     "output_type": "execute_result"
    }
   ],
   "source": [
    "list(map(lambda x :  1 if x=='m' else 0,gen))"
   ]
  },
  {
   "cell_type": "code",
   "execution_count": 12,
   "id": "f1e5427f-ce08-4a75-8b19-fe618ee4fd85",
   "metadata": {},
   "outputs": [],
   "source": [
    "def gen_encode(g):\n",
    "    if g=='m':\n",
    "        return 1\n",
    "    elif g=='f':\n",
    "        return 0\n",
    "    else:\n",
    "        return -1"
   ]
  },
  {
   "cell_type": "code",
   "execution_count": 13,
   "id": "14012226-5449-49c2-b1de-817d27e19edb",
   "metadata": {},
   "outputs": [
    {
     "data": {
      "text/plain": [
       "[1, 0, 1, 0, 0, 0, -1, -1]"
      ]
     },
     "execution_count": 13,
     "metadata": {},
     "output_type": "execute_result"
    }
   ],
   "source": [
    "list(map(gen_encode,gen))"
   ]
  },
  {
   "cell_type": "code",
   "execution_count": 14,
   "id": "2e6bd86f-55a0-4f99-8fcf-5568c203a880",
   "metadata": {},
   "outputs": [],
   "source": [
    "city  = ['pune','mumbai','banglore','chennai','delhi','pune','mumbai']"
   ]
  },
  {
   "cell_type": "code",
   "execution_count": null,
   "id": "64aa4077-5e75-495e-81de-770c740701cc",
   "metadata": {},
   "outputs": [],
   "source": [
    "output\n",
    "\n",
    "pune -- 1\n",
    "mumbai 2\n",
    "chennai -3 \n",
    "delhi -7\n",
    "banglore -10\n",
    "[1,2,10,3,7,1,2]"
   ]
  },
  {
   "cell_type": "code",
   "execution_count": 17,
   "id": "d6b7c9a2-920b-427f-955b-580d3aeeb735",
   "metadata": {},
   "outputs": [
    {
     "data": {
      "text/plain": [
       "[1, 2, 10, 3, 7, 1, 2]"
      ]
     },
     "execution_count": 17,
     "metadata": {},
     "output_type": "execute_result"
    }
   ],
   "source": [
    "list(map(lambda x: 1 if x=='pune' else 2 if x=='mumbai' else 3 if x=='chennai' else 7 if x=='delhi' else 10,city))"
   ]
  },
  {
   "cell_type": "code",
   "execution_count": null,
   "id": "e630823a-4e6e-4efe-89ee-be97b5c700ef",
   "metadata": {},
   "outputs": [],
   "source": []
  }
 ],
 "metadata": {
  "kernelspec": {
   "display_name": "Python 3 (ipykernel)",
   "language": "python",
   "name": "python3"
  },
  "language_info": {
   "codemirror_mode": {
    "name": "ipython",
    "version": 3
   },
   "file_extension": ".py",
   "mimetype": "text/x-python",
   "name": "python",
   "nbconvert_exporter": "python",
   "pygments_lexer": "ipython3",
   "version": "3.12.7"
  }
 },
 "nbformat": 4,
 "nbformat_minor": 5
}
