{
 "cells": [
  {
   "cell_type": "code",
   "execution_count": null,
   "id": "1e9102cc-ed7a-42af-abac-8edde1bf806a",
   "metadata": {},
   "outputs": [],
   "source": [
    "positiional Arguments\n",
    "default arguments\n",
    "variable length arguments\n",
    "keyword arguments\n",
    "variable length keyword arguments\n"
   ]
  },
  {
   "cell_type": "code",
   "execution_count": 1,
   "id": "c539c7ab-3b17-40ca-a4cb-b79522f34e94",
   "metadata": {},
   "outputs": [],
   "source": [
    "def emp_details(id,name,sal,city,dept):\n",
    "    print(\"id:\",id)\n",
    "    print(\"Name:\",name)\n",
    "    print(\"Sal:\",sal)\n",
    "    print(\"City:\",city)\n",
    "    print(\"Dept:\",dept)"
   ]
  },
  {
   "cell_type": "code",
   "execution_count": 2,
   "id": "42e10a3b-a052-41f0-ada0-e7bdb18030d1",
   "metadata": {},
   "outputs": [
    {
     "name": "stdout",
     "output_type": "stream",
     "text": [
      "id: 101\n",
      "Name: Rahul\n",
      "Sal: 6456456\n",
      "City: Pune\n",
      "Dept: IT\n"
     ]
    }
   ],
   "source": [
    "emp_details(101,\"Rahul\",6456456,\"Pune\",\"IT\")"
   ]
  },
  {
   "cell_type": "code",
   "execution_count": 4,
   "id": "7b835591-ab17-4220-acb2-b57424509675",
   "metadata": {},
   "outputs": [
    {
     "name": "stdout",
     "output_type": "stream",
     "text": [
      "id: Mumbai\n",
      "Name: 6454545\n",
      "Sal: HR\n",
      "City: anil\n",
      "Dept: 6565\n"
     ]
    }
   ],
   "source": [
    "emp_details(\"Mumbai\",6454545,\"HR\",\"anil\",6565)"
   ]
  },
  {
   "cell_type": "code",
   "execution_count": 8,
   "id": "2ac09083-d486-40f5-8adf-3b7e37126fdd",
   "metadata": {},
   "outputs": [],
   "source": [
    "def emp_details(id,name,sal,city,dept,passport=\"no passport available\"):\n",
    "    print(\"id:\",id)\n",
    "    print(\"Name:\",name)\n",
    "    print(\"Sal:\",sal)\n",
    "    print(\"City:\",city)\n",
    "    print(\"Dept:\",dept)\n",
    "    print(\"Passport:\",passport)"
   ]
  },
  {
   "cell_type": "code",
   "execution_count": 9,
   "id": "265a37c8-3ea8-483b-ba45-54c7343af0ab",
   "metadata": {},
   "outputs": [
    {
     "name": "stdout",
     "output_type": "stream",
     "text": [
      "id: 202\n",
      "Name: Tushar\n",
      "Sal: 5454544\n",
      "City: Pune\n",
      "Dept: Admin\n",
      "Passport: U5466543\n"
     ]
    }
   ],
   "source": [
    "emp_details(202,\"Tushar\",5454544,\"Pune\",\"Admin\",\"U5466543\")"
   ]
  },
  {
   "cell_type": "code",
   "execution_count": 10,
   "id": "b6955ae7-8bf9-44fd-b5cb-924949eb4e15",
   "metadata": {},
   "outputs": [
    {
     "name": "stdout",
     "output_type": "stream",
     "text": [
      "id: 202\n",
      "Name: Tushar\n",
      "Sal: 5454544\n",
      "City: Pune\n",
      "Dept: Admin\n",
      "Passport: no passport available\n"
     ]
    }
   ],
   "source": [
    "emp_details(202,\"Tushar\",5454544,\"Pune\",\"Admin\")"
   ]
  },
  {
   "cell_type": "code",
   "execution_count": 11,
   "id": "04bf6733-ee85-4792-8a15-e522711c0dd9",
   "metadata": {},
   "outputs": [],
   "source": [
    "def statement_year(startdate='01-04-2023',enddate='31-03-2024'):\n",
    "    print(\"downlading statement from {} to {} ..\".format(startdate,enddate))"
   ]
  },
  {
   "cell_type": "code",
   "execution_count": 12,
   "id": "794a00de-0cd8-4804-a58e-a38146885ed4",
   "metadata": {},
   "outputs": [
    {
     "name": "stdout",
     "output_type": "stream",
     "text": [
      "downlading statement from 01-04-2023 to 31-03-2024 ..\n"
     ]
    }
   ],
   "source": [
    "statement_year()"
   ]
  },
  {
   "cell_type": "code",
   "execution_count": 13,
   "id": "28b690ea-e9c9-4b58-abd3-33738daf9148",
   "metadata": {},
   "outputs": [
    {
     "name": "stdout",
     "output_type": "stream",
     "text": [
      "downlading statement from 05-10-2023 to 31-12-2023 ..\n"
     ]
    }
   ],
   "source": [
    "statement_year('05-10-2023','31-12-2023')"
   ]
  },
  {
   "cell_type": "code",
   "execution_count": null,
   "id": "ef623110-6cf2-4d32-ac39-2167ca0de3c3",
   "metadata": {},
   "outputs": [],
   "source": []
  },
  {
   "cell_type": "code",
   "execution_count": 17,
   "id": "a1b01a65-98cf-4553-9304-d3aff9cbbd6e",
   "metadata": {},
   "outputs": [],
   "source": [
    "def test(*args):\n",
    "    print(\"in side function\")\n",
    "    print(args)\n",
    "    print(\"in side function\")"
   ]
  },
  {
   "cell_type": "code",
   "execution_count": 18,
   "id": "ed110879-e34e-4cf1-b561-7d5654eddce0",
   "metadata": {},
   "outputs": [
    {
     "name": "stdout",
     "output_type": "stream",
     "text": [
      "in side function\n",
      "(10, 30, 40, 7, 4, 8776)\n",
      "in side function\n"
     ]
    }
   ],
   "source": [
    "test(10,30,40,7,4,8776)"
   ]
  },
  {
   "cell_type": "code",
   "execution_count": 19,
   "id": "c10a9db2-8a8e-45df-a056-6752d954ebb5",
   "metadata": {},
   "outputs": [],
   "source": [
    "def add(*test):\n",
    "    total = 0\n",
    "    for i in test:\n",
    "        total+=i\n",
    "    print(total)"
   ]
  },
  {
   "cell_type": "code",
   "execution_count": 22,
   "id": "a3fefe5f-8689-4cdd-8971-be76ddfee01a",
   "metadata": {},
   "outputs": [
    {
     "name": "stdout",
     "output_type": "stream",
     "text": [
      "0\n"
     ]
    }
   ],
   "source": [
    "add()"
   ]
  },
  {
   "cell_type": "code",
   "execution_count": 23,
   "id": "f11d6992-9f19-431f-a063-17f580f1fffb",
   "metadata": {},
   "outputs": [],
   "source": [
    "def emp_details(id,name,sal,city,dept,passport):\n",
    "    print(\"id:\",id)\n",
    "    print(\"Name:\",name)\n",
    "    print(\"Sal:\",sal)\n",
    "    print(\"City:\",city)\n",
    "    print(\"Dept:\",dept)\n",
    "    print(\"Passport:\",passport)"
   ]
  },
  {
   "cell_type": "code",
   "execution_count": 24,
   "id": "18326316-3cd6-416a-ab2f-12e1f7d89cfc",
   "metadata": {},
   "outputs": [
    {
     "name": "stdout",
     "output_type": "stream",
     "text": [
      "id: 100\n",
      "Name: rahul\n",
      "Sal: 4564546545\n",
      "City: Pune\n",
      "Dept: IT\n",
      "Passport: U54354435\n"
     ]
    }
   ],
   "source": [
    "emp_details(passport='U54354435',sal=4564546545,id=100,name='rahul',dept='IT',city='Pune')"
   ]
  },
  {
   "cell_type": "code",
   "execution_count": 25,
   "id": "5a776440-3a8d-48c8-99ac-151c2d04e2b4",
   "metadata": {},
   "outputs": [],
   "source": [
    "def emp_details(**kwargs):\n",
    "    print(kwargs)"
   ]
  },
  {
   "cell_type": "code",
   "execution_count": 26,
   "id": "5afaf866-c3c4-450f-bc4a-31c50598f533",
   "metadata": {},
   "outputs": [
    {
     "name": "stdout",
     "output_type": "stream",
     "text": [
      "{'id': 65464, 'name': 'test', 'age': 545}\n"
     ]
    }
   ],
   "source": [
    "emp_details(id=65464,name='test',age=545)"
   ]
  },
  {
   "cell_type": "code",
   "execution_count": 40,
   "id": "77d068d8-f1df-4f7a-b744-0bbefccd80a7",
   "metadata": {},
   "outputs": [],
   "source": [
    "def test(deptid,nopass = 'no value',*args,**kwargs):\n",
    "    print(deptid)\n",
    "    print(nopass)\n",
    "    print(args)\n",
    "    print(kwargs)"
   ]
  },
  {
   "cell_type": "code",
   "execution_count": 41,
   "id": "a800aa54-4341-4831-a6e8-a3a539bdf0b0",
   "metadata": {},
   "outputs": [
    {
     "name": "stdout",
     "output_type": "stream",
     "text": [
      "6545\n",
      "23\n",
      "(6565,)\n",
      "{'id': 101, 'name': 'sample'}\n"
     ]
    }
   ],
   "source": [
    "test(6545,23,6565,id=101,name='sample')"
   ]
  },
  {
   "cell_type": "code",
   "execution_count": 42,
   "id": "e306c495-27b8-4aac-8714-244b2004662d",
   "metadata": {},
   "outputs": [
    {
     "ename": "SyntaxError",
     "evalue": "parameter without a default follows parameter with a default (3520958330.py, line 1)",
     "output_type": "error",
     "traceback": [
      "\u001b[1;36m  Cell \u001b[1;32mIn[42], line 1\u001b[1;36m\u001b[0m\n\u001b[1;33m    def t1(p=10,q):\u001b[0m\n\u001b[1;37m                ^\u001b[0m\n\u001b[1;31mSyntaxError\u001b[0m\u001b[1;31m:\u001b[0m parameter without a default follows parameter with a default\n"
     ]
    }
   ],
   "source": [
    "def t1(p=10,q):\n",
    "    print(p)\n",
    "    print(q)"
   ]
  },
  {
   "cell_type": "code",
   "execution_count": 45,
   "id": "12b75ba6-1a04-478c-876d-dd553366f34a",
   "metadata": {},
   "outputs": [],
   "source": [
    "course = 'Python Data Science'\n",
    "def test():\n",
    "    x = 100\n",
    "    y = 200"
   ]
  },
  {
   "cell_type": "code",
   "execution_count": 44,
   "id": "359be0e3-4462-4763-8a01-6fed67c0305d",
   "metadata": {},
   "outputs": [
    {
     "ename": "NameError",
     "evalue": "name 'x' is not defined",
     "output_type": "error",
     "traceback": [
      "\u001b[1;31m---------------------------------------------------------------------------\u001b[0m",
      "\u001b[1;31mNameError\u001b[0m                                 Traceback (most recent call last)",
      "Cell \u001b[1;32mIn[44], line 1\u001b[0m\n\u001b[1;32m----> 1\u001b[0m x\n",
      "\u001b[1;31mNameError\u001b[0m: name 'x' is not defined"
     ]
    }
   ],
   "source": [
    "x"
   ]
  },
  {
   "cell_type": "code",
   "execution_count": null,
   "id": "69ce0a70-f3ae-445d-ae2a-9173b2e7ebe9",
   "metadata": {},
   "outputs": [],
   "source": [
    "she bang\n",
    "\n",
    "doc string\n",
    "\"\"\"\n",
    "\n",
    "\"\"\"\n",
    "import library\n",
    "\n",
    "global variales\n",
    "\n",
    "function1\n",
    "\n",
    "function2\n",
    "\n",
    "function3\n",
    "\n",
    "main function\n",
    "\n",
    "if __name__=='__main__':\n",
    "    main()\n",
    "\n",
    "\n",
    "\n",
    "\n",
    "\n",
    "\n",
    "\n",
    "\n",
    "\n",
    "\n",
    "\n",
    "\n",
    "\n",
    "\n",
    "\n",
    "\n",
    "\n"
   ]
  }
 ],
 "metadata": {
  "kernelspec": {
   "display_name": "Python 3 (ipykernel)",
   "language": "python",
   "name": "python3"
  },
  "language_info": {
   "codemirror_mode": {
    "name": "ipython",
    "version": 3
   },
   "file_extension": ".py",
   "mimetype": "text/x-python",
   "name": "python",
   "nbconvert_exporter": "python",
   "pygments_lexer": "ipython3",
   "version": "3.12.7"
  }
 },
 "nbformat": 4,
 "nbformat_minor": 5
}
