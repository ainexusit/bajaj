{
 "cells": [
  {
   "cell_type": "code",
   "execution_count": 1,
   "id": "f1ee1475-7e97-4d5f-9d57-785eaabeaf65",
   "metadata": {},
   "outputs": [],
   "source": [
    "py_set = {}"
   ]
  },
  {
   "cell_type": "code",
   "execution_count": 2,
   "id": "0429af7b-452d-4d28-a8df-dbe10e2b1f07",
   "metadata": {},
   "outputs": [
    {
     "data": {
      "text/plain": [
       "dict"
      ]
     },
     "execution_count": 2,
     "metadata": {},
     "output_type": "execute_result"
    }
   ],
   "source": [
    "type(py_set)"
   ]
  },
  {
   "cell_type": "code",
   "execution_count": 3,
   "id": "8ff6202a-1f09-408d-84ba-d1f3447b82e7",
   "metadata": {},
   "outputs": [],
   "source": [
    "py_set = {10}"
   ]
  },
  {
   "cell_type": "code",
   "execution_count": 4,
   "id": "279e0464-c5de-4f58-9b2e-5ace8f532238",
   "metadata": {},
   "outputs": [
    {
     "data": {
      "text/plain": [
       "set"
      ]
     },
     "execution_count": 4,
     "metadata": {},
     "output_type": "execute_result"
    }
   ],
   "source": [
    "type(py_set)"
   ]
  },
  {
   "cell_type": "code",
   "execution_count": 5,
   "id": "a456e725-5420-470b-9dce-2beca7ae319f",
   "metadata": {},
   "outputs": [],
   "source": [
    "p = {1,1,1,1,1,1,'c','python','java'}"
   ]
  },
  {
   "cell_type": "code",
   "execution_count": 6,
   "id": "f8d8bdb1-7730-4c21-b259-88aba41f0c30",
   "metadata": {},
   "outputs": [
    {
     "data": {
      "text/plain": [
       "{1, 'c', 'java', 'python'}"
      ]
     },
     "execution_count": 6,
     "metadata": {},
     "output_type": "execute_result"
    }
   ],
   "source": [
    "p"
   ]
  },
  {
   "cell_type": "code",
   "execution_count": 43,
   "id": "53888d5f-71f4-4f09-8ca6-e59a40a63358",
   "metadata": {},
   "outputs": [],
   "source": [
    "loan = {'amit','keshav','sonali','sanket','aniket'}"
   ]
  },
  {
   "cell_type": "code",
   "execution_count": 44,
   "id": "b638991b-b0b8-4359-a7c2-30e20b26c3b9",
   "metadata": {},
   "outputs": [],
   "source": [
    "credit = {'pratima','radhika','tushar','kedar','amit','sanket'}"
   ]
  },
  {
   "cell_type": "code",
   "execution_count": 9,
   "id": "298effe2-685a-4e67-a26e-2d653cb0dbd5",
   "metadata": {},
   "outputs": [],
   "source": [
    "loan.add('Anil')"
   ]
  },
  {
   "cell_type": "code",
   "execution_count": 10,
   "id": "dcad1306-5b6c-494c-af2f-b189d24c32d1",
   "metadata": {},
   "outputs": [
    {
     "data": {
      "text/plain": [
       "{'Anil', 'amit', 'aniket', 'keshav', 'sanket', 'sonali'}"
      ]
     },
     "execution_count": 10,
     "metadata": {},
     "output_type": "execute_result"
    }
   ],
   "source": [
    "loan"
   ]
  },
  {
   "cell_type": "code",
   "execution_count": 11,
   "id": "66f4b09f-c3ef-47a2-a906-11fcc5439402",
   "metadata": {},
   "outputs": [],
   "source": [
    "loan.add(100)"
   ]
  },
  {
   "cell_type": "code",
   "execution_count": 12,
   "id": "40be435a-87e7-4428-a1b0-c38b69591451",
   "metadata": {},
   "outputs": [
    {
     "data": {
      "text/plain": [
       "{100, 'Anil', 'amit', 'aniket', 'keshav', 'sanket', 'sonali'}"
      ]
     },
     "execution_count": 12,
     "metadata": {},
     "output_type": "execute_result"
    }
   ],
   "source": [
    "loan"
   ]
  },
  {
   "cell_type": "code",
   "execution_count": 13,
   "id": "2c6e8a18-5b11-45a7-9396-5cf6cf4a5ef6",
   "metadata": {},
   "outputs": [],
   "source": [
    "loan.add('ramesh')"
   ]
  },
  {
   "cell_type": "code",
   "execution_count": 14,
   "id": "9f7ef751-c2c0-400e-a757-ac067b9fcdaa",
   "metadata": {},
   "outputs": [
    {
     "data": {
      "text/plain": [
       "{100, 'Anil', 'amit', 'aniket', 'keshav', 'ramesh', 'sanket', 'sonali'}"
      ]
     },
     "execution_count": 14,
     "metadata": {},
     "output_type": "execute_result"
    }
   ],
   "source": [
    "loan"
   ]
  },
  {
   "cell_type": "code",
   "execution_count": 18,
   "id": "cbe5abc5-1162-437d-bf95-5aca7868d8dc",
   "metadata": {},
   "outputs": [],
   "source": [
    "loan.update({10,20})"
   ]
  },
  {
   "cell_type": "code",
   "execution_count": 19,
   "id": "bd2b31fc-49ce-4040-ad7a-36b20889510a",
   "metadata": {},
   "outputs": [
    {
     "data": {
      "text/plain": [
       "{10,\n",
       " 100,\n",
       " 20,\n",
       " 'Anil',\n",
       " 'a',\n",
       " 'amit',\n",
       " 'aniket',\n",
       " 'h',\n",
       " 'j',\n",
       " 'keshav',\n",
       " 'n',\n",
       " 'o',\n",
       " 'p',\n",
       " 'ramesh',\n",
       " 'sanket',\n",
       " 'sonali',\n",
       " 't',\n",
       " 'v',\n",
       " 'y'}"
      ]
     },
     "execution_count": 19,
     "metadata": {},
     "output_type": "execute_result"
    }
   ],
   "source": [
    "loan"
   ]
  },
  {
   "cell_type": "code",
   "execution_count": 20,
   "id": "79bda155-e8dd-49eb-938f-a55e1be6cf7b",
   "metadata": {},
   "outputs": [],
   "source": [
    "p = {4,7,23}"
   ]
  },
  {
   "cell_type": "code",
   "execution_count": 21,
   "id": "11669d5e-9a29-4780-92bd-d49162e91627",
   "metadata": {},
   "outputs": [],
   "source": [
    "p.update([100,200,300])"
   ]
  },
  {
   "cell_type": "code",
   "execution_count": 22,
   "id": "96d1340e-6eb9-4477-ab52-9bebe1a22b2f",
   "metadata": {},
   "outputs": [
    {
     "data": {
      "text/plain": [
       "{4, 7, 23, 100, 200, 300}"
      ]
     },
     "execution_count": 22,
     "metadata": {},
     "output_type": "execute_result"
    }
   ],
   "source": [
    "p"
   ]
  },
  {
   "cell_type": "code",
   "execution_count": 24,
   "id": "d5aca6df-d63c-4840-9df9-f803ab149d3a",
   "metadata": {},
   "outputs": [],
   "source": [
    "loan.remove('a')"
   ]
  },
  {
   "cell_type": "code",
   "execution_count": 26,
   "id": "a56124d7-585e-4d43-84c3-eecfda14c6e8",
   "metadata": {},
   "outputs": [],
   "source": [
    "loan.remove('h')"
   ]
  },
  {
   "cell_type": "code",
   "execution_count": 28,
   "id": "f5675eb7-24c5-42a7-a7f1-36e3981ee6a1",
   "metadata": {},
   "outputs": [
    {
     "ename": "KeyError",
     "evalue": "'jon'",
     "output_type": "error",
     "traceback": [
      "\u001b[1;31m---------------------------------------------------------------------------\u001b[0m",
      "\u001b[1;31mKeyError\u001b[0m                                  Traceback (most recent call last)",
      "Cell \u001b[1;32mIn[28], line 1\u001b[0m\n\u001b[1;32m----> 1\u001b[0m loan\u001b[38;5;241m.\u001b[39mremove(\u001b[38;5;124m'\u001b[39m\u001b[38;5;124mjon\u001b[39m\u001b[38;5;124m'\u001b[39m)\n",
      "\u001b[1;31mKeyError\u001b[0m: 'jon'"
     ]
    }
   ],
   "source": [
    "loan.remove('jon')"
   ]
  },
  {
   "cell_type": "code",
   "execution_count": 29,
   "id": "b9f92ac7-8716-40e0-befe-ef37c3babb16",
   "metadata": {},
   "outputs": [],
   "source": [
    "loan.discard('jon')"
   ]
  },
  {
   "cell_type": "code",
   "execution_count": 31,
   "id": "44b48c95-0660-4ee4-89f2-e662fcf8a8cb",
   "metadata": {},
   "outputs": [],
   "source": [
    "loan.discard('n')"
   ]
  },
  {
   "cell_type": "code",
   "execution_count": 33,
   "id": "5517a2e8-c23c-4a70-a0c7-084a9dcef19b",
   "metadata": {},
   "outputs": [
    {
     "ename": "TypeError",
     "evalue": "set.discard() takes exactly one argument (2 given)",
     "output_type": "error",
     "traceback": [
      "\u001b[1;31m---------------------------------------------------------------------------\u001b[0m",
      "\u001b[1;31mTypeError\u001b[0m                                 Traceback (most recent call last)",
      "Cell \u001b[1;32mIn[33], line 1\u001b[0m\n\u001b[1;32m----> 1\u001b[0m loan\u001b[38;5;241m.\u001b[39mdiscard(\u001b[38;5;241m10\u001b[39m,\u001b[38;5;241m20\u001b[39m)\n",
      "\u001b[1;31mTypeError\u001b[0m: set.discard() takes exactly one argument (2 given)"
     ]
    }
   ],
   "source": [
    "loan.discard(10,20)"
   ]
  },
  {
   "cell_type": "code",
   "execution_count": 34,
   "id": "dcb01bb2-2949-4458-af51-47b8614c5541",
   "metadata": {},
   "outputs": [
    {
     "data": {
      "text/plain": [
       "10"
      ]
     },
     "execution_count": 34,
     "metadata": {},
     "output_type": "execute_result"
    }
   ],
   "source": [
    "loan.pop()"
   ]
  },
  {
   "cell_type": "code",
   "execution_count": 36,
   "id": "822c0cfb-2b4e-4add-82c5-f5b672109f80",
   "metadata": {},
   "outputs": [
    {
     "data": {
      "text/plain": [
       "'j'"
      ]
     },
     "execution_count": 36,
     "metadata": {},
     "output_type": "execute_result"
    }
   ],
   "source": [
    "loan.pop()"
   ]
  },
  {
   "cell_type": "code",
   "execution_count": 38,
   "id": "fcab7eb0-5464-48f3-aea6-7146e3de97a8",
   "metadata": {},
   "outputs": [
    {
     "data": {
      "text/plain": [
       "'t'"
      ]
     },
     "execution_count": 38,
     "metadata": {},
     "output_type": "execute_result"
    }
   ],
   "source": [
    "loan.pop()"
   ]
  },
  {
   "cell_type": "code",
   "execution_count": 39,
   "id": "545ea5c1-ac97-49b1-aeed-cf261a40d7d4",
   "metadata": {},
   "outputs": [
    {
     "data": {
      "text/plain": [
       "{100,\n",
       " 20,\n",
       " 'Anil',\n",
       " 'amit',\n",
       " 'aniket',\n",
       " 'keshav',\n",
       " 'o',\n",
       " 'p',\n",
       " 'ramesh',\n",
       " 'sanket',\n",
       " 'sonali',\n",
       " 'v',\n",
       " 'y'}"
      ]
     },
     "execution_count": 39,
     "metadata": {},
     "output_type": "execute_result"
    }
   ],
   "source": [
    "loan"
   ]
  },
  {
   "cell_type": "code",
   "execution_count": 40,
   "id": "3176d3da-f8f1-4901-a81a-d5b9fd147642",
   "metadata": {},
   "outputs": [
    {
     "data": {
      "text/plain": [
       "{100,\n",
       " 20,\n",
       " 'Anil',\n",
       " 'amit',\n",
       " 'aniket',\n",
       " 'kedar',\n",
       " 'keshav',\n",
       " 'o',\n",
       " 'p',\n",
       " 'pratima',\n",
       " 'radhika',\n",
       " 'ramesh',\n",
       " 'sanket',\n",
       " 'sonali',\n",
       " 'tushar',\n",
       " 'v',\n",
       " 'y'}"
      ]
     },
     "execution_count": 40,
     "metadata": {},
     "output_type": "execute_result"
    }
   ],
   "source": [
    "loan.union(credit)"
   ]
  },
  {
   "cell_type": "code",
   "execution_count": 41,
   "id": "a99649e9-50b6-4754-a3ab-a411a4c6c279",
   "metadata": {},
   "outputs": [],
   "source": [
    "loan.remove('v')"
   ]
  },
  {
   "cell_type": "code",
   "execution_count": 42,
   "id": "46abbeaa-09a6-4a0c-b6e0-453e1d6da993",
   "metadata": {},
   "outputs": [],
   "source": [
    "loan.remove('y')"
   ]
  },
  {
   "cell_type": "code",
   "execution_count": 45,
   "id": "8f995477-4ad8-43b7-897d-f1b9438f719e",
   "metadata": {},
   "outputs": [
    {
     "data": {
      "text/plain": [
       "{'amit', 'aniket', 'keshav', 'sanket', 'sonali'}"
      ]
     },
     "execution_count": 45,
     "metadata": {},
     "output_type": "execute_result"
    }
   ],
   "source": [
    "loan"
   ]
  },
  {
   "cell_type": "code",
   "execution_count": 46,
   "id": "e8329ae0-0a40-419f-9920-ecf2cab3c9d8",
   "metadata": {},
   "outputs": [
    {
     "data": {
      "text/plain": [
       "{'amit', 'kedar', 'pratima', 'radhika', 'sanket', 'tushar'}"
      ]
     },
     "execution_count": 46,
     "metadata": {},
     "output_type": "execute_result"
    }
   ],
   "source": [
    "credit"
   ]
  },
  {
   "cell_type": "code",
   "execution_count": 48,
   "id": "d3868872-5866-4b16-827e-a268c12db108",
   "metadata": {},
   "outputs": [
    {
     "data": {
      "text/plain": [
       "9"
      ]
     },
     "execution_count": 48,
     "metadata": {},
     "output_type": "execute_result"
    }
   ],
   "source": [
    "len(loan.union(credit))"
   ]
  },
  {
   "cell_type": "code",
   "execution_count": 49,
   "id": "59ccf2bd-46b5-47e1-8a73-451ba885e4ee",
   "metadata": {},
   "outputs": [
    {
     "data": {
      "text/plain": [
       "{'amit', 'sanket'}"
      ]
     },
     "execution_count": 49,
     "metadata": {},
     "output_type": "execute_result"
    }
   ],
   "source": [
    "loan.intersection(credit)"
   ]
  },
  {
   "cell_type": "code",
   "execution_count": 50,
   "id": "323a77e1-0210-415e-a879-0f31c9dec302",
   "metadata": {},
   "outputs": [
    {
     "data": {
      "text/plain": [
       "{'amit', 'aniket', 'keshav', 'sanket', 'sonali'}"
      ]
     },
     "execution_count": 50,
     "metadata": {},
     "output_type": "execute_result"
    }
   ],
   "source": [
    "loan"
   ]
  },
  {
   "cell_type": "code",
   "execution_count": 51,
   "id": "4c47754e-ae36-409d-8153-b99d9302a75c",
   "metadata": {},
   "outputs": [
    {
     "data": {
      "text/plain": [
       "{'amit', 'kedar', 'pratima', 'radhika', 'sanket', 'tushar'}"
      ]
     },
     "execution_count": 51,
     "metadata": {},
     "output_type": "execute_result"
    }
   ],
   "source": [
    "credit"
   ]
  },
  {
   "cell_type": "code",
   "execution_count": 52,
   "id": "bb541866-814e-41f8-8157-dbf7e078e6cf",
   "metadata": {},
   "outputs": [
    {
     "data": {
      "text/plain": [
       "{'aniket', 'keshav', 'sonali'}"
      ]
     },
     "execution_count": 52,
     "metadata": {},
     "output_type": "execute_result"
    }
   ],
   "source": [
    "loan.difference(credit)"
   ]
  },
  {
   "cell_type": "code",
   "execution_count": 53,
   "id": "40e718ba-ad3e-4f06-b671-ceed5db9b646",
   "metadata": {},
   "outputs": [
    {
     "data": {
      "text/plain": [
       "{'kedar', 'pratima', 'radhika', 'tushar'}"
      ]
     },
     "execution_count": 53,
     "metadata": {},
     "output_type": "execute_result"
    }
   ],
   "source": [
    "credit.difference(loan)"
   ]
  },
  {
   "cell_type": "code",
   "execution_count": 54,
   "id": "3a79b48a-685b-4b33-9192-2a4d3725f8f9",
   "metadata": {},
   "outputs": [
    {
     "data": {
      "text/plain": [
       "{'aniket', 'kedar', 'keshav', 'pratima', 'radhika', 'sonali', 'tushar'}"
      ]
     },
     "execution_count": 54,
     "metadata": {},
     "output_type": "execute_result"
    }
   ],
   "source": [
    "loan.symmetric_difference(credit)"
   ]
  },
  {
   "cell_type": "code",
   "execution_count": null,
   "id": "eeceedac-33cb-4fab-96a2-9c2bd76271ed",
   "metadata": {},
   "outputs": [],
   "source": [
    "loan."
   ]
  }
 ],
 "metadata": {
  "kernelspec": {
   "display_name": "Python 3 (ipykernel)",
   "language": "python",
   "name": "python3"
  },
  "language_info": {
   "codemirror_mode": {
    "name": "ipython",
    "version": 3
   },
   "file_extension": ".py",
   "mimetype": "text/x-python",
   "name": "python",
   "nbconvert_exporter": "python",
   "pygments_lexer": "ipython3",
   "version": "3.12.7"
  }
 },
 "nbformat": 4,
 "nbformat_minor": 5
}
