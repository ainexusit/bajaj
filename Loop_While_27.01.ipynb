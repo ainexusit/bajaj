{
 "cells": [
  {
   "cell_type": "code",
   "execution_count": 7,
   "id": "494e1937-61e6-426d-878c-8dfd73d926c9",
   "metadata": {},
   "outputs": [
    {
     "name": "stdin",
     "output_type": "stream",
     "text": [
      "Enter the number: 1\n"
     ]
    },
    {
     "name": "stdout",
     "output_type": "stream",
     "text": [
      "1 is armstrong\n"
     ]
    }
   ],
   "source": [
    "a = input(\"Enter the number:\")\n",
    "p = len(a)\n",
    "total = 0\n",
    "for i in a:\n",
    "    total = total+int(i)**p\n",
    "if a==str(total):\n",
    "    print(\"{} is armstrong\".format(a)\n",
    "else:\n",
    "    print(\"{} is not armstrong\".format(a))"
   ]
  },
  {
   "cell_type": "code",
   "execution_count": 4,
   "id": "902383da-34fb-472d-ba5c-10e4c6e0ef68",
   "metadata": {},
   "outputs": [
    {
     "name": "stdout",
     "output_type": "stream",
     "text": [
      "1\n",
      "2\n",
      "3\n"
     ]
    }
   ],
   "source": [
    "for i in '123':\n",
    "    print(i)"
   ]
  },
  {
   "cell_type": "code",
   "execution_count": 8,
   "id": "f44b9ce0-11c4-4225-a473-94c27e090b78",
   "metadata": {},
   "outputs": [],
   "source": [
    "productids = [5324,76,2332,476,23,35,76,23,5,4,'cfdsffg','dsfdsf',654565,34,5465,34,45]"
   ]
  },
  {
   "cell_type": "code",
   "execution_count": 9,
   "id": "181d14ac-096f-4c71-b4bb-95b42d7e0231",
   "metadata": {},
   "outputs": [
    {
     "name": "stdout",
     "output_type": "stream",
     "text": [
      "processing 5324..\n",
      "processing 76..\n",
      "processing 2332..\n",
      "processing 476..\n",
      "processing 23..\n",
      "processing 35..\n",
      "processing 76..\n",
      "processing 23..\n",
      "processing 5..\n",
      "processing 4..\n"
     ]
    }
   ],
   "source": [
    "for prd in productids:\n",
    "    if str(prd).isnumeric():\n",
    "        print(\"processing {}..\".format(prd))\n",
    "    else:\n",
    "        break"
   ]
  },
  {
   "cell_type": "code",
   "execution_count": 13,
   "id": "37886c9c-d39e-4180-bbe0-b54c1c446d5f",
   "metadata": {},
   "outputs": [
    {
     "name": "stdout",
     "output_type": "stream",
     "text": [
      "processing 5324..\n",
      "processing 76..\n",
      "processing 2332..\n",
      "processing 476..\n",
      "processing 23..\n",
      "processing 35..\n",
      "processing 76..\n",
      "processing 23..\n",
      "processing 5..\n",
      "processing 4..\n",
      "processing 654565..\n",
      "processing 34..\n",
      "processing 5465..\n",
      "processing 34..\n",
      "processing 45..\n",
      "['cfdsffg', 'dsfdsf']\n"
     ]
    }
   ],
   "source": [
    "invalid  = []\n",
    "for prd in productids:\n",
    "    if str(prd).isnumeric():\n",
    "        print(\"processing {}..\".format(prd))\n",
    "    else:\n",
    "        invalid.append(prd)\n",
    "        continue\n",
    "print(invalid)"
   ]
  },
  {
   "cell_type": "code",
   "execution_count": null,
   "id": "3a174497-fdd8-4d54-95d6-75caa4458278",
   "metadata": {},
   "outputs": [],
   "source": [
    "for ---> Group"
   ]
  },
  {
   "cell_type": "code",
   "execution_count": null,
   "id": "13e81108-707b-41e7-8fd9-053750b16b58",
   "metadata": {},
   "outputs": [],
   "source": [
    "while condition"
   ]
  },
  {
   "cell_type": "code",
   "execution_count": null,
   "id": "9b6a5155-4d98-4464-a699-55ace4864d18",
   "metadata": {},
   "outputs": [],
   "source": [
    "while condition:\n",
    "    block of statements"
   ]
  },
  {
   "cell_type": "code",
   "execution_count": null,
   "id": "6e0b01af-1e6d-4bb9-9fe0-54a126431546",
   "metadata": {},
   "outputs": [],
   "source": [
    "while True:\n",
    "    statement "
   ]
  },
  {
   "cell_type": "code",
   "execution_count": 14,
   "id": "8e5e66eb-d395-4dc3-8c48-bd0bcb8f87f2",
   "metadata": {},
   "outputs": [
    {
     "name": "stdout",
     "output_type": "stream",
     "text": [
      "1\n",
      "2\n",
      "3\n",
      "4\n",
      "5\n",
      "6\n",
      "7\n",
      "8\n",
      "9\n",
      "10\n"
     ]
    }
   ],
   "source": [
    "i = 1\n",
    "while i<=10:\n",
    "    print(i)\n",
    "    i+=1"
   ]
  },
  {
   "cell_type": "code",
   "execution_count": 15,
   "id": "c7a66c4c-6e5c-43ca-9c61-8e10cfc2cd24",
   "metadata": {},
   "outputs": [],
   "source": [
    "p = ['python','java','hadoop','ml']"
   ]
  },
  {
   "cell_type": "code",
   "execution_count": 17,
   "id": "df7e7ddc-fca5-4af9-8529-fcd6ed611a60",
   "metadata": {},
   "outputs": [
    {
     "name": "stdout",
     "output_type": "stream",
     "text": [
      "python\n",
      "java\n",
      "hadoop\n",
      "ml\n"
     ]
    }
   ],
   "source": [
    "i=0\n",
    "while i<len(p):\n",
    "    print(p[i])\n",
    "    i+=1"
   ]
  },
  {
   "cell_type": "code",
   "execution_count": 20,
   "id": "8f6ba320-eb2a-431e-90fc-ba1a23f191eb",
   "metadata": {},
   "outputs": [
    {
     "name": "stdin",
     "output_type": "stream",
     "text": [
      "Enter the number1: 45\n",
      "Enter the number2: 656\n"
     ]
    },
    {
     "name": "stdout",
     "output_type": "stream",
     "text": [
      "Addition of 45 and 656 is 701\n"
     ]
    },
    {
     "name": "stdin",
     "output_type": "stream",
     "text": [
      "Do you want to continue[yes|no]: NO\n",
      "Enter the number1: 545\n",
      "Enter the number2: 76887\n"
     ]
    },
    {
     "name": "stdout",
     "output_type": "stream",
     "text": [
      "Addition of 545 and 76887 is 77432\n"
     ]
    },
    {
     "name": "stdin",
     "output_type": "stream",
     "text": [
      "Do you want to continue[yes|no]: no\n"
     ]
    },
    {
     "name": "stdout",
     "output_type": "stream",
     "text": [
      "Thanks for visiting\n"
     ]
    }
   ],
   "source": [
    "while True:\n",
    "    a = int(input(\"Enter the number1:\"))\n",
    "    b = int(input(\"Enter the number2:\"))\n",
    "    c = a+b\n",
    "    print(\"Addition of {} and {} is {}\".format(a,b,c))\n",
    "    choice = input(\"Do you want to continue[yes|no]:\")\n",
    "    if choice.lower()=='no':\n",
    "        print(\"Thanks for visiting\")\n",
    "        break"
   ]
  },
  {
   "cell_type": "code",
   "execution_count": 21,
   "id": "22698a57-1032-431d-8d8b-8e85d6d64e87",
   "metadata": {},
   "outputs": [
    {
     "name": "stdin",
     "output_type": "stream",
     "text": [
      "Enter the number1: 6565\n",
      "Enter the number2: 54\n"
     ]
    },
    {
     "name": "stdout",
     "output_type": "stream",
     "text": [
      "Addition of 6565 and 54 is 6619\n"
     ]
    },
    {
     "name": "stdin",
     "output_type": "stream",
     "text": [
      "Do you want to continue[yes|no]: no\n"
     ]
    },
    {
     "name": "stdout",
     "output_type": "stream",
     "text": [
      "Thanks for visiting\n"
     ]
    }
   ],
   "source": [
    "flag= True\n",
    "while flag:\n",
    "    a = int(input(\"Enter the number1:\"))\n",
    "    b = int(input(\"Enter the number2:\"))\n",
    "    c = a+b\n",
    "    print(\"Addition of {} and {} is {}\".format(a,b,c))\n",
    "    choice = input(\"Do you want to continue[yes|no]:\")\n",
    "    if choice.lower()=='no':\n",
    "        print(\"Thanks for visiting\")\n",
    "        flag=False\n",
    "        "
   ]
  },
  {
   "cell_type": "code",
   "execution_count": null,
   "id": "517c64bc-48e1-4aad-88c1-69847bdb71b1",
   "metadata": {},
   "outputs": [],
   "source": [
    "number -- prime or not\n",
    "1-100 -- prime numbers\n"
   ]
  }
 ],
 "metadata": {
  "kernelspec": {
   "display_name": "Python 3 (ipykernel)",
   "language": "python",
   "name": "python3"
  },
  "language_info": {
   "codemirror_mode": {
    "name": "ipython",
    "version": 3
   },
   "file_extension": ".py",
   "mimetype": "text/x-python",
   "name": "python",
   "nbconvert_exporter": "python",
   "pygments_lexer": "ipython3",
   "version": "3.12.7"
  }
 },
 "nbformat": 4,
 "nbformat_minor": 5
}
