{
 "cells": [
  {
   "cell_type": "code",
   "execution_count": 9,
   "id": "7b63c3c9-8f06-4f38-812d-df6646df6d4f",
   "metadata": {},
   "outputs": [],
   "source": [
    "p = ['test@gmail.com','sample@yahoo.com','python@redifffmail.com']"
   ]
  },
  {
   "cell_type": "code",
   "execution_count": 3,
   "id": "77ca89d9-ba81-4cf7-8a99-1f424d7a9dd4",
   "metadata": {},
   "outputs": [
    {
     "data": {
      "text/plain": [
       "['test@gmail.com']"
      ]
     },
     "execution_count": 3,
     "metadata": {},
     "output_type": "execute_result"
    }
   ],
   "source": [
    "list(filter(lambda x: x.endswith('@gmail.com'),p))"
   ]
  },
  {
   "cell_type": "code",
   "execution_count": 4,
   "id": "3bfb9f2b-3ff0-44b6-a550-4bc4ad07cba9",
   "metadata": {},
   "outputs": [
    {
     "data": {
      "text/plain": [
       "[True, False, False]"
      ]
     },
     "execution_count": 4,
     "metadata": {},
     "output_type": "execute_result"
    }
   ],
   "source": [
    "list(map(lambda x: x.endswith('@gmail.com'),p))"
   ]
  },
  {
   "cell_type": "code",
   "execution_count": 5,
   "id": "8977279f-9627-444d-b97b-db68f392ccf0",
   "metadata": {},
   "outputs": [],
   "source": [
    "p = [45,876,34,76,3,48,7,45,7,45]"
   ]
  },
  {
   "cell_type": "code",
   "execution_count": 6,
   "id": "b15ed533-a61f-479a-ae73-01763085b329",
   "metadata": {},
   "outputs": [
    {
     "data": {
      "text/plain": [
       "[876, 34, 76, 48]"
      ]
     },
     "execution_count": 6,
     "metadata": {},
     "output_type": "execute_result"
    }
   ],
   "source": [
    "[i for i in p if i%2==0]"
   ]
  },
  {
   "cell_type": "code",
   "execution_count": 7,
   "id": "02202721-cfa7-47f2-9a01-7d47414be735",
   "metadata": {},
   "outputs": [
    {
     "data": {
      "text/plain": [
       "[45, 876, 34, 76, 3, 48, 7, 45, 7, 45]"
      ]
     },
     "execution_count": 7,
     "metadata": {},
     "output_type": "execute_result"
    }
   ],
   "source": [
    "[i for i in p]"
   ]
  },
  {
   "cell_type": "code",
   "execution_count": 8,
   "id": "25ec254e-6eba-41ef-a554-f9b3bf89c327",
   "metadata": {},
   "outputs": [
    {
     "ename": "NameError",
     "evalue": "name 'emails' is not defined",
     "output_type": "error",
     "traceback": [
      "\u001b[1;31m---------------------------------------------------------------------------\u001b[0m",
      "\u001b[1;31mNameError\u001b[0m                                 Traceback (most recent call last)",
      "Cell \u001b[1;32mIn[8], line 1\u001b[0m\n\u001b[1;32m----> 1\u001b[0m emails\n",
      "\u001b[1;31mNameError\u001b[0m: name 'emails' is not defined"
     ]
    }
   ],
   "source": [
    "emails"
   ]
  },
  {
   "cell_type": "code",
   "execution_count": 10,
   "id": "dc96d569-5648-4e2a-8a83-f42420574607",
   "metadata": {},
   "outputs": [
    {
     "data": {
      "text/plain": [
       "['test@gmail.com', 'sample@yahoo.com', 'python@redifffmail.com']"
      ]
     },
     "execution_count": 10,
     "metadata": {},
     "output_type": "execute_result"
    }
   ],
   "source": [
    "p"
   ]
  },
  {
   "cell_type": "code",
   "execution_count": 11,
   "id": "1c9804e6-0500-45f4-996f-e5c7a213dc9b",
   "metadata": {},
   "outputs": [
    {
     "data": {
      "text/plain": [
       "['test', 'sample', 'python']"
      ]
     },
     "execution_count": 11,
     "metadata": {},
     "output_type": "execute_result"
    }
   ],
   "source": [
    "[i.split('@')[0] for i in p]"
   ]
  },
  {
   "cell_type": "code",
   "execution_count": 12,
   "id": "06950192-7483-415c-9ccd-b24fc2f755ec",
   "metadata": {},
   "outputs": [],
   "source": [
    "p = ['5645','545','454','45','4545']"
   ]
  },
  {
   "cell_type": "code",
   "execution_count": 13,
   "id": "c2a95fc4-e768-4b4e-bd2f-e48fe9a58a54",
   "metadata": {},
   "outputs": [
    {
     "data": {
      "text/plain": [
       "[5645, 545, 454, 45, 4545]"
      ]
     },
     "execution_count": 13,
     "metadata": {},
     "output_type": "execute_result"
    }
   ],
   "source": [
    "[int(i) for i in p]"
   ]
  },
  {
   "cell_type": "code",
   "execution_count": 14,
   "id": "c6b1371b-9bce-4854-8f43-9a045c19306a",
   "metadata": {},
   "outputs": [],
   "source": [
    "p= [[1,2,3],[4,5,6]]"
   ]
  },
  {
   "cell_type": "code",
   "execution_count": null,
   "id": "6f53e915-7ba1-41b8-95e7-7b18c2e86dff",
   "metadata": {},
   "outputs": [],
   "source": [
    "[1,2,3,4,5,6]"
   ]
  },
  {
   "cell_type": "code",
   "execution_count": 15,
   "id": "f22daee4-5ae5-4cfe-ac03-cc913f0c8bd6",
   "metadata": {},
   "outputs": [
    {
     "data": {
      "text/plain": [
       "[[1, 2, 3], [4, 5, 6]]"
      ]
     },
     "execution_count": 15,
     "metadata": {},
     "output_type": "execute_result"
    }
   ],
   "source": [
    "p"
   ]
  },
  {
   "cell_type": "code",
   "execution_count": 16,
   "id": "f45cc5db-df92-4b66-a5ad-8839a91807ed",
   "metadata": {},
   "outputs": [
    {
     "name": "stdout",
     "output_type": "stream",
     "text": [
      "[1, 2, 3, 4, 5, 6]\n"
     ]
    }
   ],
   "source": [
    "flatten = []\n",
    "for i in p:\n",
    "    for j in i:\n",
    "        flatten.append(j)\n",
    "print(flatten)"
   ]
  },
  {
   "cell_type": "code",
   "execution_count": 17,
   "id": "76c088eb-b6be-4c8e-a3f7-ad9f245d6e3b",
   "metadata": {},
   "outputs": [
    {
     "data": {
      "text/plain": [
       "[1, 2, 3, 4, 5, 6]"
      ]
     },
     "execution_count": 17,
     "metadata": {},
     "output_type": "execute_result"
    }
   ],
   "source": [
    "[j for i in p for j in i]"
   ]
  },
  {
   "cell_type": "code",
   "execution_count": 18,
   "id": "b9c4ebc4-ba38-426e-bb0d-66a6d40c3060",
   "metadata": {},
   "outputs": [],
   "source": [
    "p = [[34,'dsfdfs',4545,4545,'fgdfsgd',544345],[545,4545,'rsgddgssdfdg',43454,54435]]"
   ]
  },
  {
   "cell_type": "code",
   "execution_count": 19,
   "id": "68948ed7-4e01-4d3d-86b1-b66262caf67b",
   "metadata": {},
   "outputs": [
    {
     "data": {
      "text/plain": [
       "['dsfdfs', 'fgdfsgd', 'rsgddgssdfdg']"
      ]
     },
     "execution_count": 19,
     "metadata": {},
     "output_type": "execute_result"
    }
   ],
   "source": [
    "[j for i in p for j in i if str(j).isalpha()]"
   ]
  },
  {
   "cell_type": "code",
   "execution_count": null,
   "id": "4e0b3187-d840-425c-92d7-ee98ca6f007d",
   "metadata": {},
   "outputs": [],
   "source": [
    "date  = ['01-12-2023',..........]\n",
    "\n",
    "\n",
    "day\n",
    "month\n",
    "year"
   ]
  },
  {
   "cell_type": "code",
   "execution_count": null,
   "id": "ff5b6692-f378-4bda-93ec-0ee7d47a2b6f",
   "metadata": {},
   "outputs": [],
   "source": [
    "dict "
   ]
  },
  {
   "cell_type": "code",
   "execution_count": 20,
   "id": "9bbe2621-6e5f-4936-b589-74d268770bd5",
   "metadata": {},
   "outputs": [],
   "source": [
    "p = [1,2,3,4,5,6]"
   ]
  },
  {
   "cell_type": "code",
   "execution_count": null,
   "id": "0ca9c7e4-5786-48c0-a091-ba2f7543a6f1",
   "metadata": {},
   "outputs": [],
   "source": [
    "{1:1,2:4,3:9...}"
   ]
  },
  {
   "cell_type": "code",
   "execution_count": 21,
   "id": "5b5be4ae-0aac-4279-acaf-45e53ad97188",
   "metadata": {},
   "outputs": [
    {
     "data": {
      "text/plain": [
       "{1: 1, 2: 4, 3: 9, 4: 16, 5: 25, 6: 36}"
      ]
     },
     "execution_count": 21,
     "metadata": {},
     "output_type": "execute_result"
    }
   ],
   "source": [
    "{i:i**2 for i in p}"
   ]
  },
  {
   "cell_type": "code",
   "execution_count": 22,
   "id": "fabb9772-d1c8-43f1-be34-713404215cc0",
   "metadata": {},
   "outputs": [],
   "source": [
    "p =['python','java','ml','hadoop','data science']"
   ]
  },
  {
   "cell_type": "code",
   "execution_count": 24,
   "id": "77f6fd25-0394-4d20-964c-e356fc655f80",
   "metadata": {},
   "outputs": [
    {
     "data": {
      "text/plain": [
       "{'python': 6, 'hadoop': 6, 'data science': 12}"
      ]
     },
     "execution_count": 24,
     "metadata": {},
     "output_type": "execute_result"
    }
   ],
   "source": [
    "{i:len(i) for i in p if len(i)>5}"
   ]
  },
  {
   "cell_type": "code",
   "execution_count": 25,
   "id": "67868a78-77b9-4202-a35a-31c77c558457",
   "metadata": {},
   "outputs": [],
   "source": [
    "files  = ['test.pdf','sample.csv','pyspark.xlsx']"
   ]
  },
  {
   "cell_type": "code",
   "execution_count": null,
   "id": "7590842f-12b4-41c5-90bb-8a5163c09728",
   "metadata": {},
   "outputs": [],
   "source": [
    "{\"pdf\" :  \"test.pdf\",\"csv\":\"sample.csv\",\"xlsx\":\"pyspark.xlsx\"}"
   ]
  },
  {
   "cell_type": "code",
   "execution_count": null,
   "id": "4794bb00-f452-4cb5-9d61-44dfcb30190e",
   "metadata": {},
   "outputs": [],
   "source": [
    "tuple compresshssion"
   ]
  },
  {
   "cell_type": "code",
   "execution_count": null,
   "id": "be30f94a-2c2c-42bb-ae1b-925c4c0a9901",
   "metadata": {},
   "outputs": [],
   "source": [
    "generator object "
   ]
  },
  {
   "cell_type": "code",
   "execution_count": 27,
   "id": "4b130b84-a902-4bac-8afd-1cf51976ed64",
   "metadata": {},
   "outputs": [
    {
     "data": {
      "text/plain": [
       "<generator object <genexpr> at 0x0000020D19497DC0>"
      ]
     },
     "execution_count": 27,
     "metadata": {},
     "output_type": "execute_result"
    }
   ],
   "source": [
    "(i for i in range(100))"
   ]
  },
  {
   "cell_type": "code",
   "execution_count": 28,
   "id": "37d3d832-25af-4438-afde-e53b6af6b40a",
   "metadata": {},
   "outputs": [],
   "source": [
    "def test():\n",
    "    yield 100\n",
    "    yield 200\n",
    "    "
   ]
  },
  {
   "cell_type": "code",
   "execution_count": 30,
   "id": "225ade13-9aec-4f09-8392-7e0ed47f7cd7",
   "metadata": {},
   "outputs": [],
   "source": [
    "obj = test()"
   ]
  },
  {
   "cell_type": "code",
   "execution_count": 31,
   "id": "327ca507-fc34-452b-9a04-2454b39bb651",
   "metadata": {},
   "outputs": [
    {
     "data": {
      "text/plain": [
       "100"
      ]
     },
     "execution_count": 31,
     "metadata": {},
     "output_type": "execute_result"
    }
   ],
   "source": [
    "next(obj)"
   ]
  },
  {
   "cell_type": "code",
   "execution_count": 32,
   "id": "d95974ad-8b42-4dfc-9c4a-5d294c7e75f3",
   "metadata": {},
   "outputs": [
    {
     "data": {
      "text/plain": [
       "200"
      ]
     },
     "execution_count": 32,
     "metadata": {},
     "output_type": "execute_result"
    }
   ],
   "source": [
    "next(obj)"
   ]
  },
  {
   "cell_type": "code",
   "execution_count": 33,
   "id": "91fbde99-aaa5-4139-931f-6900c1377ef4",
   "metadata": {},
   "outputs": [
    {
     "ename": "StopIteration",
     "evalue": "",
     "output_type": "error",
     "traceback": [
      "\u001b[1;31m---------------------------------------------------------------------------\u001b[0m",
      "\u001b[1;31mStopIteration\u001b[0m                             Traceback (most recent call last)",
      "Cell \u001b[1;32mIn[33], line 1\u001b[0m\n\u001b[1;32m----> 1\u001b[0m \u001b[38;5;28mnext\u001b[39m(obj)\n",
      "\u001b[1;31mStopIteration\u001b[0m: "
     ]
    }
   ],
   "source": [
    "next(obj)"
   ]
  },
  {
   "cell_type": "code",
   "execution_count": 34,
   "id": "53dcd7b4-6c9e-434f-906c-05ef4a4e32b6",
   "metadata": {},
   "outputs": [],
   "source": [
    "def mygen(num):\n",
    "    i=1\n",
    "    while i<=num:\n",
    "        yield i\n",
    "        i+=1\n",
    "        "
   ]
  },
  {
   "cell_type": "code",
   "execution_count": 35,
   "id": "ead80433-9c55-4fb7-bfdb-190940c4a964",
   "metadata": {},
   "outputs": [],
   "source": [
    "obj = mygen(100)"
   ]
  },
  {
   "cell_type": "code",
   "execution_count": 36,
   "id": "65eaee5e-9cc2-4b05-a00c-1e1ad2f077be",
   "metadata": {},
   "outputs": [
    {
     "data": {
      "text/plain": [
       "1"
      ]
     },
     "execution_count": 36,
     "metadata": {},
     "output_type": "execute_result"
    }
   ],
   "source": [
    "next(obj)"
   ]
  },
  {
   "cell_type": "code",
   "execution_count": 37,
   "id": "9555a2ac-d16a-4649-b4dd-a5afb275d19d",
   "metadata": {},
   "outputs": [
    {
     "name": "stdout",
     "output_type": "stream",
     "text": [
      "2\n",
      "3\n",
      "4\n",
      "5\n",
      "6\n",
      "7\n",
      "8\n",
      "9\n",
      "10\n",
      "11\n",
      "12\n",
      "13\n",
      "14\n",
      "15\n",
      "16\n",
      "17\n",
      "18\n",
      "19\n",
      "20\n",
      "21\n",
      "22\n",
      "23\n",
      "24\n",
      "25\n",
      "26\n",
      "27\n",
      "28\n",
      "29\n",
      "30\n",
      "31\n",
      "32\n",
      "33\n",
      "34\n",
      "35\n",
      "36\n",
      "37\n",
      "38\n",
      "39\n",
      "40\n",
      "41\n",
      "42\n",
      "43\n",
      "44\n",
      "45\n",
      "46\n",
      "47\n",
      "48\n",
      "49\n",
      "50\n",
      "51\n",
      "52\n",
      "53\n",
      "54\n",
      "55\n",
      "56\n",
      "57\n",
      "58\n",
      "59\n",
      "60\n",
      "61\n",
      "62\n",
      "63\n",
      "64\n",
      "65\n",
      "66\n",
      "67\n",
      "68\n",
      "69\n",
      "70\n",
      "71\n",
      "72\n",
      "73\n",
      "74\n",
      "75\n",
      "76\n",
      "77\n",
      "78\n",
      "79\n",
      "80\n",
      "81\n",
      "82\n",
      "83\n",
      "84\n",
      "85\n",
      "86\n",
      "87\n",
      "88\n",
      "89\n",
      "90\n",
      "91\n",
      "92\n",
      "93\n",
      "94\n",
      "95\n",
      "96\n",
      "97\n",
      "98\n",
      "99\n",
      "100\n"
     ]
    }
   ],
   "source": [
    "for i in obj:\n",
    "    print(i)"
   ]
  },
  {
   "cell_type": "code",
   "execution_count": null,
   "id": "df29be0b-19a5-4080-a516-d6e42e5b2488",
   "metadata": {},
   "outputs": [],
   "source": [
    "[i for i in range(999999999999999999)]"
   ]
  },
  {
   "cell_type": "code",
   "execution_count": null,
   "id": "15e3fc2a-7824-4b28-91ea-712da4d1af2b",
   "metadata": {},
   "outputs": [],
   "source": [
    "iterator:\n"
   ]
  },
  {
   "cell_type": "code",
   "execution_count": 1,
   "id": "cdaa7ab3-d255-456e-8ed1-1e443190605e",
   "metadata": {},
   "outputs": [],
   "source": [
    "p = [54,34,645,234,6545,64,34,345,3445]"
   ]
  },
  {
   "cell_type": "code",
   "execution_count": 3,
   "id": "f115bfe7-2aee-4bd0-9d5e-b8a045c49af5",
   "metadata": {},
   "outputs": [],
   "source": [
    "p1 = iter(p)"
   ]
  },
  {
   "cell_type": "code",
   "execution_count": 4,
   "id": "a853285a-dc34-40b7-a2ad-e29af91725a1",
   "metadata": {},
   "outputs": [
    {
     "data": {
      "text/plain": [
       "<list_iterator at 0x22912da7a60>"
      ]
     },
     "execution_count": 4,
     "metadata": {},
     "output_type": "execute_result"
    }
   ],
   "source": [
    "p1"
   ]
  },
  {
   "cell_type": "code",
   "execution_count": 5,
   "id": "8372e01d-80bb-440c-8153-9511e954a44a",
   "metadata": {},
   "outputs": [
    {
     "data": {
      "text/plain": [
       "54"
      ]
     },
     "execution_count": 5,
     "metadata": {},
     "output_type": "execute_result"
    }
   ],
   "source": [
    "next(p1)"
   ]
  },
  {
   "cell_type": "code",
   "execution_count": 6,
   "id": "46ce77bb-6415-4349-aec2-74176ba02664",
   "metadata": {},
   "outputs": [
    {
     "data": {
      "text/plain": [
       "34"
      ]
     },
     "execution_count": 6,
     "metadata": {},
     "output_type": "execute_result"
    }
   ],
   "source": [
    "next(p1)"
   ]
  },
  {
   "cell_type": "code",
   "execution_count": null,
   "id": "f969557f-e5a9-45ef-b891-c08de646274b",
   "metadata": {},
   "outputs": [],
   "source": []
  },
  {
   "cell_type": "code",
   "execution_count": null,
   "id": "5d600422-3faf-42e1-b387-6f0d9f59a305",
   "metadata": {},
   "outputs": [],
   "source": []
  },
  {
   "cell_type": "code",
   "execution_count": null,
   "id": "8d86a82e-be59-49ae-8dbf-9424c3def0a1",
   "metadata": {},
   "outputs": [],
   "source": []
  },
  {
   "cell_type": "code",
   "execution_count": null,
   "id": "bf092c80-7868-4278-bd80-643f6975bc68",
   "metadata": {},
   "outputs": [],
   "source": []
  },
  {
   "cell_type": "code",
   "execution_count": null,
   "id": "61e7dbec-2069-4d84-9a15-d1d787726676",
   "metadata": {},
   "outputs": [],
   "source": []
  },
  {
   "cell_type": "code",
   "execution_count": null,
   "id": "b0a78974-6058-4ddc-80be-fbdc50de7b7f",
   "metadata": {},
   "outputs": [],
   "source": [
    "\n",
    "\n"
   ]
  },
  {
   "cell_type": "code",
   "execution_count": null,
   "id": "0c99b379-a0d5-4d88-9bbb-16fa92e3b2fe",
   "metadata": {},
   "outputs": [],
   "source": [
    "\n",
    "\n",
    "\n",
    "\n"
   ]
  },
  {
   "cell_type": "code",
   "execution_count": null,
   "id": "58e9f389-96f7-411b-b8da-92969556c7e8",
   "metadata": {},
   "outputs": [],
   "source": []
  }
 ],
 "metadata": {
  "kernelspec": {
   "display_name": "Python 3 (ipykernel)",
   "language": "python",
   "name": "python3"
  },
  "language_info": {
   "codemirror_mode": {
    "name": "ipython",
    "version": 3
   },
   "file_extension": ".py",
   "mimetype": "text/x-python",
   "name": "python",
   "nbconvert_exporter": "python",
   "pygments_lexer": "ipython3",
   "version": "3.12.7"
  }
 },
 "nbformat": 4,
 "nbformat_minor": 5
}
