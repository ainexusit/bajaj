{
 "cells": [
  {
   "cell_type": "code",
   "execution_count": 1,
   "id": "d719fd2e-1f6a-4e9d-914d-37702f601653",
   "metadata": {},
   "outputs": [],
   "source": [
    "p = [54,23,65,423,6,5,45,23,6445,23,6445,234,56,42,35,45]"
   ]
  },
  {
   "cell_type": "code",
   "execution_count": 2,
   "id": "be79a0e1-12fb-4798-baa5-41b500f0196f",
   "metadata": {},
   "outputs": [
    {
     "name": "stdout",
     "output_type": "stream",
     "text": [
      "{54: 1, 23: 3, 65: 1, 423: 1, 6: 1, 5: 1, 45: 2, 6445: 2, 234: 1, 56: 1, 42: 1, 35: 1}\n"
     ]
    }
   ],
   "source": [
    "d = {}\n",
    "for element in p:\n",
    "    if element in d:\n",
    "        d[element]+=1\n",
    "    else:\n",
    "        d[element]=1\n",
    "print(d)"
   ]
  },
  {
   "cell_type": "code",
   "execution_count": 3,
   "id": "972c5fbd-addd-4953-9dcc-080acc1fd271",
   "metadata": {},
   "outputs": [],
   "source": [
    "p= 'osidffbsdiadisaffbssailufbvskuyffgvsakuyffvsaf'"
   ]
  },
  {
   "cell_type": "code",
   "execution_count": 4,
   "id": "3fedf1a5-f228-4a90-abf9-7e7b778a2fe2",
   "metadata": {},
   "outputs": [
    {
     "name": "stdout",
     "output_type": "stream",
     "text": [
      "{'o': 1, 's': 8, 'i': 4, 'd': 3, 'f': 10, 'b': 3, 'a': 5, 'l': 1, 'u': 3, 'v': 3, 'k': 2, 'y': 2, 'g': 1}\n"
     ]
    }
   ],
   "source": [
    "d = {}\n",
    "for element in p:\n",
    "    if element in d:\n",
    "        d[element]+=1\n",
    "    else:\n",
    "        d[element]=1\n",
    "print(d)"
   ]
  },
  {
   "cell_type": "code",
   "execution_count": 5,
   "id": "d241af94-3af2-4913-8a5d-bc90f7ea58bf",
   "metadata": {},
   "outputs": [],
   "source": [
    "statement = \"\"\"\n",
    "Python 3.13 is the latest stable release of the Python programming language, with a mix of changes to the language, the implementation and the standard library. The biggest changes include a new interactive interpreter, experimental support for running in a free-threaded mode (PEP 703), and a Just-In-Time compiler (PEP 744).\n",
    "\n",
    "Error messages continue to improve, with tracebacks now highlighted in color by default. The locals() builtin now has defined semantics for changing the returned mapping, and type parameters now support default values.\n",
    "\n",
    "The library changes contain removal of deprecated APIs and modules, as well as the usual improvements in user-friendliness and correctness. Several legacy standard library modules have now been removed following their deprecation in Python 3.11 (PEP 594).\n",
    "\n",
    "This article doesn’t attempt to provide a complete specification of all new features, but instead gives a convenient overview. For full details refer to the documentation, such as the Library Reference and Language Reference. To understand the complete implementation and design rationale for a change, refer to the PEP for a particular new feature; but note that PEPs usually are not kept up-to-date once a feature has been fully implemented. See Porting to Python 3.13 for guidance on upgrading from earlier versions of Python.\"\"\""
   ]
  },
  {
   "cell_type": "code",
   "execution_count": 6,
   "id": "90062fda-e58b-46d3-916b-4d44b9f7f4ed",
   "metadata": {},
   "outputs": [
    {
     "data": {
      "text/plain": [
       "'\\nPython 3.13 is the latest stable release of the Python programming language, with a mix of changes to the language, the implementation and the standard library. The biggest changes include a new interactive interpreter, experimental support for running in a free-threaded mode (PEP 703), and a Just-In-Time compiler (PEP 744).\\n\\nError messages continue to improve, with tracebacks now highlighted in color by default. The locals() builtin now has defined semantics for changing the returned mapping, and type parameters now support default values.\\n\\nThe library changes contain removal of deprecated APIs and modules, as well as the usual improvements in user-friendliness and correctness. Several legacy standard library modules have now been removed following their deprecation in Python 3.11 (PEP 594).\\n\\nThis article doesn’t attempt to provide a complete specification of all new features, but instead gives a convenient overview. For full details refer to the documentation, such as the Library Reference and Language Reference. To understand the complete implementation and design rationale for a change, refer to the PEP for a particular new feature; but note that PEPs usually are not kept up-to-date once a feature has been fully implemented. See Porting to Python 3.13 for guidance on upgrading from earlier versions of Python.'"
      ]
     },
     "execution_count": 6,
     "metadata": {},
     "output_type": "execute_result"
    }
   ],
   "source": [
    "statement"
   ]
  },
  {
   "cell_type": "code",
   "execution_count": 7,
   "id": "f3df757a-bc8e-4f93-a735-fd144bd5b90c",
   "metadata": {},
   "outputs": [
    {
     "name": "stdout",
     "output_type": "stream",
     "text": [
      "{'Python': 4, '3.13': 2, 'is': 1, 'the': 11, 'latest': 1, 'stable': 1, 'release': 1, 'of': 5, 'programming': 1, 'language,': 2, 'with': 2, 'a': 9, 'mix': 1, 'changes': 3, 'to': 6, 'implementation': 2, 'and': 7, 'standard': 2, 'library.': 1, 'The': 3, 'biggest': 1, 'include': 1, 'new': 3, 'interactive': 1, 'interpreter,': 1, 'experimental': 1, 'support': 2, 'for': 5, 'running': 1, 'in': 4, 'free-threaded': 1, 'mode': 1, '(PEP': 3, '703),': 1, 'Just-In-Time': 1, 'compiler': 1, '744).': 1, 'Error': 1, 'messages': 1, 'continue': 1, 'improve,': 1, 'tracebacks': 1, 'now': 4, 'highlighted': 1, 'color': 1, 'by': 1, 'default.': 1, 'locals()': 1, 'builtin': 1, 'has': 2, 'defined': 1, 'semantics': 1, 'changing': 1, 'returned': 1, 'mapping,': 1, 'type': 1, 'parameters': 1, 'default': 1, 'values.': 1, 'library': 2, 'contain': 1, 'removal': 1, 'deprecated': 1, 'APIs': 1, 'modules,': 1, 'as': 3, 'well': 1, 'usual': 1, 'improvements': 1, 'user-friendliness': 1, 'correctness.': 1, 'Several': 1, 'legacy': 1, 'modules': 1, 'have': 1, 'been': 2, 'removed': 1, 'following': 1, 'their': 1, 'deprecation': 1, '3.11': 1, '594).': 1, 'This': 1, 'article': 1, 'doesn’t': 1, 'attempt': 1, 'provide': 1, 'complete': 2, 'specification': 1, 'all': 1, 'features,': 1, 'but': 2, 'instead': 1, 'gives': 1, 'convenient': 1, 'overview.': 1, 'For': 1, 'full': 1, 'details': 1, 'refer': 2, 'documentation,': 1, 'such': 1, 'Library': 1, 'Reference': 1, 'Language': 1, 'Reference.': 1, 'To': 1, 'understand': 1, 'design': 1, 'rationale': 1, 'change,': 1, 'PEP': 1, 'particular': 1, 'feature;': 1, 'note': 1, 'that': 1, 'PEPs': 1, 'usually': 1, 'are': 1, 'not': 1, 'kept': 1, 'up-to-date': 1, 'once': 1, 'feature': 1, 'fully': 1, 'implemented.': 1, 'See': 1, 'Porting': 1, 'guidance': 1, 'on': 1, 'upgrading': 1, 'from': 1, 'earlier': 1, 'versions': 1, 'Python.': 1}\n"
     ]
    }
   ],
   "source": [
    "d = {}\n",
    "for element in statement.split():\n",
    "    if element in d:\n",
    "        d[element]+=1\n",
    "    else:\n",
    "        d[element]=1\n",
    "print(d)"
   ]
  },
  {
   "cell_type": "code",
   "execution_count": 12,
   "id": "335c2346-1775-4e5e-8b60-d072203917c6",
   "metadata": {},
   "outputs": [],
   "source": [
    "th = \"python is strong in ML python ML\""
   ]
  },
  {
   "cell_type": "code",
   "execution_count": 13,
   "id": "6c83249f-fc41-4e90-9de2-6c24d213fc5c",
   "metadata": {},
   "outputs": [
    {
     "name": "stdout",
     "output_type": "stream",
     "text": [
      "{'python': 2, 'is': 1, 'strong': 1, 'in': 1, 'ML': 2}\n"
     ]
    }
   ],
   "source": [
    "temp = {}\n",
    "for key in th.split():\n",
    "    if key in temp:\n",
    "        temp[key]+=1\n",
    "    else:\n",
    "        temp[key]=1\n",
    "print(temp)\n",
    "    "
   ]
  },
  {
   "cell_type": "code",
   "execution_count": 14,
   "id": "c7408d9e-3f2c-4033-a276-5a6bae1d95d6",
   "metadata": {},
   "outputs": [],
   "source": [
    "p = '4345kjbkjbj45435kjbvjh54435kjbkjj34543!@#%^&%&%&&#$@#'"
   ]
  },
  {
   "cell_type": "code",
   "execution_count": 15,
   "id": "386ac704-7dc5-45f6-9f99-7ec15aae23f4",
   "metadata": {},
   "outputs": [
    {
     "data": {
      "text/plain": [
       "'34543jjkbjk53445hjvbjk53454jbjkbjk5434'"
      ]
     },
     "execution_count": 15,
     "metadata": {},
     "output_type": "execute_result"
    }
   ],
   "source": [
    "p[::-1]"
   ]
  },
  {
   "cell_type": "code",
   "execution_count": 16,
   "id": "779dd163-008b-43ba-a948-919b1af7040e",
   "metadata": {},
   "outputs": [],
   "source": [
    "p = \"VDVDVSDVSDFDfdgfsdknksadjbskajfbsafgdgvjnbsdkjvbsdkjvb\""
   ]
  },
  {
   "cell_type": "code",
   "execution_count": null,
   "id": "1092c416-7fcb-45d1-8e00-4cdab99794d8",
   "metadata": {},
   "outputs": [],
   "source": [
    "AEIOU -->"
   ]
  },
  {
   "cell_type": "code",
   "execution_count": 17,
   "id": "2d25c016-cb19-45a1-9446-c30abcee804b",
   "metadata": {},
   "outputs": [],
   "source": [
    "p = 'python'"
   ]
  },
  {
   "cell_type": "code",
   "execution_count": 18,
   "id": "36568710-478e-48da-81cc-aeb0042cafec",
   "metadata": {},
   "outputs": [
    {
     "name": "stdout",
     "output_type": "stream",
     "text": [
      "5\n",
      "4\n",
      "3\n",
      "2\n",
      "1\n",
      "0\n"
     ]
    }
   ],
   "source": [
    "for i in range(5,-1,-1):\n",
    "    print(i)\n",
    "    "
   ]
  },
  {
   "cell_type": "code",
   "execution_count": 20,
   "id": "ce87a63c-b53b-4988-a613-41981ba583b6",
   "metadata": {},
   "outputs": [
    {
     "name": "stdout",
     "output_type": "stream",
     "text": [
      "1\n",
      "3\n",
      "5\n",
      "7\n",
      "9\n"
     ]
    }
   ],
   "source": [
    "for i in range(1,11,2):\n",
    "    print(i)"
   ]
  },
  {
   "cell_type": "code",
   "execution_count": 21,
   "id": "2f0b3cda-d722-4a08-85c8-65e35b44a94b",
   "metadata": {},
   "outputs": [
    {
     "name": "stdout",
     "output_type": "stream",
     "text": [
      "2\n",
      "4\n",
      "6\n",
      "8\n",
      "10\n",
      "12\n",
      "14\n",
      "16\n",
      "18\n",
      "20\n"
     ]
    }
   ],
   "source": [
    "for i in range(2,21,2):\n",
    "    print(i)"
   ]
  },
  {
   "cell_type": "code",
   "execution_count": 25,
   "id": "6a991949-096a-4910-8d03-dbd6bfd0e53c",
   "metadata": {},
   "outputs": [
    {
     "name": "stdin",
     "output_type": "stream",
     "text": [
      "Enter the number: 9\n"
     ]
    },
    {
     "name": "stdout",
     "output_type": "stream",
     "text": [
      "9\n",
      "18\n",
      "27\n",
      "36\n",
      "45\n",
      "54\n",
      "63\n",
      "72\n",
      "81\n",
      "90\n"
     ]
    }
   ],
   "source": [
    "no = int(input(\"Enter the number:\"))\n",
    "for i in range(1,11):\n",
    "    print(i*no)"
   ]
  },
  {
   "cell_type": "code",
   "execution_count": 35,
   "id": "aaa8bc02-6faf-4a98-b71a-86c1083d1b0e",
   "metadata": {},
   "outputs": [],
   "source": [
    "p = 'machine learning'"
   ]
  },
  {
   "cell_type": "code",
   "execution_count": 37,
   "id": "2b355a25-0eee-4ff7-9fec-00d693310f35",
   "metadata": {},
   "outputs": [
    {
     "name": "stdout",
     "output_type": "stream",
     "text": [
      "gninrael enihcam"
     ]
    }
   ],
   "source": [
    "for i in range(len(p)-1,-1,-1):\n",
    "    print(p[i],end='')"
   ]
  },
  {
   "cell_type": "code",
   "execution_count": 33,
   "id": "a9fa3518-e781-4704-95f1-2242157c7a7e",
   "metadata": {},
   "outputs": [
    {
     "name": "stdout",
     "output_type": "stream",
     "text": [
      "Hi bye welcome\n"
     ]
    }
   ],
   "source": [
    "print(\"Hi\",end=' ')\n",
    "print(\"bye\",end= ' ' )\n",
    "print(\"welcome\")"
   ]
  },
  {
   "cell_type": "code",
   "execution_count": null,
   "id": "991e78c0-1220-497e-a3da-36145cbd0dec",
   "metadata": {},
   "outputs": [],
   "source": []
  }
 ],
 "metadata": {
  "kernelspec": {
   "display_name": "Python 3 (ipykernel)",
   "language": "python",
   "name": "python3"
  },
  "language_info": {
   "codemirror_mode": {
    "name": "ipython",
    "version": 3
   },
   "file_extension": ".py",
   "mimetype": "text/x-python",
   "name": "python",
   "nbconvert_exporter": "python",
   "pygments_lexer": "ipython3",
   "version": "3.12.7"
  }
 },
 "nbformat": 4,
 "nbformat_minor": 5
}
